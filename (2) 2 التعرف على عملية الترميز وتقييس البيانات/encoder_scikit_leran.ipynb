{
 "cells": [
  {
   "cell_type": "code",
   "execution_count": 1,
   "id": "bda351dd-7eea-4e1f-adfb-4033dfac6444",
   "metadata": {},
   "outputs": [],
   "source": [
    "from sklearn.preprocessing import LabelEncoder"
   ]
  },
  {
   "cell_type": "code",
   "execution_count": 2,
   "id": "d7c95d5f-5129-4d84-84c7-678f6b417b6a",
   "metadata": {},
   "outputs": [],
   "source": [
    "Temp = ['a','b','a','b','c','d','a','b','ab','d','c']"
   ]
  },
  {
   "cell_type": "code",
   "execution_count": 5,
   "id": "63ff4d85-cb8e-4bea-8ed7-427460ddeef3",
   "metadata": {},
   "outputs": [
    {
     "name": "stdout",
     "output_type": "stream",
     "text": [
      "[0 2 0 2 3 4 0 2 1 4 3]\n"
     ]
    }
   ],
   "source": [
    "le = LabelEncoder()\n",
    "le.fit(Temp)\n",
    "enc_temp = le.transform(Temp)\n",
    "print(enc_temp)"
   ]
  },
  {
   "cell_type": "code",
   "execution_count": 6,
   "id": "6a4a1fb8-01d1-44fd-9c8f-2a6961db001d",
   "metadata": {},
   "outputs": [
    {
     "data": {
      "text/plain": [
       "array(['a', 'ab', 'b', 'c', 'd'], dtype='<U2')"
      ]
     },
     "execution_count": 6,
     "metadata": {},
     "output_type": "execute_result"
    }
   ],
   "source": [
    "le.classes_"
   ]
  },
  {
   "cell_type": "code",
   "execution_count": 7,
   "id": "c6c1647f-6c12-4bdf-8461-b801023e950c",
   "metadata": {},
   "outputs": [
    {
     "name": "stdout",
     "output_type": "stream",
     "text": [
      "a ==> [0]\n",
      "ab ==> [1]\n",
      "b ==> [2]\n",
      "c ==> [3]\n",
      "d ==> [4]\n"
     ]
    }
   ],
   "source": [
    "for x in le.classes_: \n",
    "    print(f'{x} ==> {le.transform([x])}')"
   ]
  },
  {
   "cell_type": "code",
   "execution_count": 9,
   "id": "81e6d046-b230-4acb-9214-b3f02a513f63",
   "metadata": {},
   "outputs": [],
   "source": [
    "test = [1,2,3,4,0,2,1,1,3,1]\n",
    "inv_temp = le.inverse_transform(test)"
   ]
  },
  {
   "cell_type": "code",
   "execution_count": 10,
   "id": "8e862272-2b8b-4dad-8bcc-884e222404d5",
   "metadata": {},
   "outputs": [
    {
     "name": "stdout",
     "output_type": "stream",
     "text": [
      "['ab' 'b' 'c' 'd' 'a' 'b' 'ab' 'ab' 'c' 'ab']\n"
     ]
    }
   ],
   "source": [
    "print(inv_temp)"
   ]
  },
  {
   "cell_type": "code",
   "execution_count": 11,
   "id": "7aed3916-8a85-4d27-b2b1-d73daf1ebd10",
   "metadata": {},
   "outputs": [
    {
     "name": "stdout",
     "output_type": "stream",
     "text": [
      "[[  1.     1.     1.  ]\n",
      " [ 25.75  34.    26.  ]\n",
      " [100.   100.   100.  ]]\n"
     ]
    }
   ],
   "source": [
    "from sklearn.preprocessing import MinMaxScaler\n",
    "\n",
    "data = [[2000,50,1],[3000,200,26],[6000,500,100]]\n",
    "\n",
    "scaler = MinMaxScaler(feature_range=(1,100))\n",
    "scaler.fit(data)\n",
    "data_t = scaler.transform(data)\n",
    "print(data_t)"
   ]
  },
  {
   "cell_type": "code",
   "execution_count": 12,
   "id": "cd1d21b7-413a-4679-8726-56d841d557ae",
   "metadata": {},
   "outputs": [
    {
     "name": "stdout",
     "output_type": "stream",
     "text": [
      "[[-0.98058068 -1.06904497 -0.98332212]\n",
      " [-0.39223227 -0.26726124 -0.38857084]\n",
      " [ 1.37281295  1.33630621  1.37189296]]\n"
     ]
    }
   ],
   "source": [
    "from sklearn.preprocessing import StandardScaler\n",
    "\n",
    "data = [[2000,50,1],[3000,200,26],[6000,500,100]]\n",
    "scaler = StandardScaler()\n",
    "scaler.fit(data)\n",
    "\n",
    "data_t = scaler.transform(data)\n",
    "print(data_t)"
   ]
  },
  {
   "cell_type": "code",
   "execution_count": null,
   "id": "c0e8aefb-ae83-478e-86d6-9393b76884db",
   "metadata": {},
   "outputs": [],
   "source": []
  }
 ],
 "metadata": {
  "kernelspec": {
   "display_name": "Python [conda env:base] *",
   "language": "python",
   "name": "conda-base-py"
  },
  "language_info": {
   "codemirror_mode": {
    "name": "ipython",
    "version": 3
   },
   "file_extension": ".py",
   "mimetype": "text/x-python",
   "name": "python",
   "nbconvert_exporter": "python",
   "pygments_lexer": "ipython3",
   "version": "3.12.7"
  }
 },
 "nbformat": 4,
 "nbformat_minor": 5
}
