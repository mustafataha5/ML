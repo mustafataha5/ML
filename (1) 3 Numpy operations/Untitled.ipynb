{
 "cells": [
  {
   "cell_type": "code",
   "execution_count": 1,
   "id": "b089443e-353f-4b1e-a733-40a3930658b4",
   "metadata": {},
   "outputs": [],
   "source": [
    "import numpy as np"
   ]
  },
  {
   "cell_type": "code",
   "execution_count": 2,
   "id": "8a8736b4-fc2c-4d1c-a89b-2f270c0c14be",
   "metadata": {},
   "outputs": [],
   "source": [
    "arr = np.array([1,1,1,2,3,2,4,5,7,1,4,2])"
   ]
  },
  {
   "cell_type": "code",
   "execution_count": 5,
   "id": "092e2cf4-df83-4def-b10e-38086dc7f09b",
   "metadata": {},
   "outputs": [],
   "source": [
    "x4 = np.where(arr == 1)"
   ]
  },
  {
   "cell_type": "code",
   "execution_count": 6,
   "id": "c92708cd-89df-400d-9b0b-150f02de3518",
   "metadata": {},
   "outputs": [
    {
     "data": {
      "text/plain": [
       "(array([0, 1, 2, 9], dtype=int64),)"
      ]
     },
     "execution_count": 6,
     "metadata": {},
     "output_type": "execute_result"
    }
   ],
   "source": [
    "x4"
   ]
  },
  {
   "cell_type": "code",
   "execution_count": 7,
   "id": "fb5852b6-5cf8-4b11-9d8c-143461ffa1d9",
   "metadata": {},
   "outputs": [
    {
     "data": {
      "text/plain": [
       "array([1, 1, 1, 1])"
      ]
     },
     "execution_count": 7,
     "metadata": {},
     "output_type": "execute_result"
    }
   ],
   "source": [
    "arr[x4]"
   ]
  },
  {
   "cell_type": "code",
   "execution_count": 8,
   "id": "231a674a-d760-4023-937e-cf13bd9c56cb",
   "metadata": {},
   "outputs": [
    {
     "data": {
      "text/plain": [
       "array([2, 2, 4, 4, 2])"
      ]
     },
     "execution_count": 8,
     "metadata": {},
     "output_type": "execute_result"
    }
   ],
   "source": [
    "even = np.where(arr%2 == 0)\n",
    "arr[even]"
   ]
  },
  {
   "cell_type": "code",
   "execution_count": 9,
   "id": "bff0b645-cd3e-49c5-a73e-19e495a71823",
   "metadata": {},
   "outputs": [
    {
     "data": {
      "text/plain": [
       "array([1, 1, 1, 1, 2, 2, 2, 3, 4, 4, 5, 7])"
      ]
     },
     "execution_count": 9,
     "metadata": {},
     "output_type": "execute_result"
    }
   ],
   "source": [
    "np.sort(arr)"
   ]
  },
  {
   "cell_type": "code",
   "execution_count": 10,
   "id": "8b029972-5766-4e28-87af-43340dea7224",
   "metadata": {},
   "outputs": [
    {
     "data": {
      "text/plain": [
       "array([7, 5, 4, 4, 3, 2, 2, 2, 1, 1, 1, 1])"
      ]
     },
     "execution_count": 10,
     "metadata": {},
     "output_type": "execute_result"
    }
   ],
   "source": [
    "np.sort(arr)[::-1]"
   ]
  },
  {
   "cell_type": "code",
   "execution_count": 11,
   "id": "8e8ecf12-f71d-47e2-ae0f-9b42eb873c94",
   "metadata": {},
   "outputs": [],
   "source": [
    "s= np.array(['aaa','aa','b','a','ba','ab','bb'])"
   ]
  },
  {
   "cell_type": "code",
   "execution_count": 14,
   "id": "d2ca3ce4-1dc6-4f03-83cc-420039310dc7",
   "metadata": {},
   "outputs": [
    {
     "data": {
      "text/plain": [
       "array(['aaa', 'aa', 'a', 'ab'], dtype='<U3')"
      ]
     },
     "execution_count": 14,
     "metadata": {},
     "output_type": "execute_result"
    }
   ],
   "source": [
    "s[np.where(s < 'b')]"
   ]
  },
  {
   "cell_type": "code",
   "execution_count": 15,
   "id": "6d93644d-ed29-4f5b-99bb-427f1102bf9d",
   "metadata": {},
   "outputs": [
    {
     "data": {
      "text/plain": [
       "array(['a', 'aa', 'aaa', 'ab', 'b', 'ba', 'bb'], dtype='<U3')"
      ]
     },
     "execution_count": 15,
     "metadata": {},
     "output_type": "execute_result"
    }
   ],
   "source": [
    "np.sort(s)"
   ]
  },
  {
   "cell_type": "code",
   "execution_count": 16,
   "id": "80f2e861-c07e-42c9-9447-eade20dc1465",
   "metadata": {},
   "outputs": [
    {
     "data": {
      "text/plain": [
       "array(['bb', 'ba', 'b', 'ab', 'aaa', 'aa', 'a'], dtype='<U3')"
      ]
     },
     "execution_count": 16,
     "metadata": {},
     "output_type": "execute_result"
    }
   ],
   "source": [
    "np.sort(s)[::-1]"
   ]
  },
  {
   "cell_type": "code",
   "execution_count": 21,
   "id": "ee6e4a41-62a0-421b-bdfc-7fded37599f6",
   "metadata": {},
   "outputs": [
    {
     "data": {
      "text/plain": [
       "array([42, 50, 56])"
      ]
     },
     "execution_count": 21,
     "metadata": {},
     "output_type": "execute_result"
    }
   ],
   "source": [
    "arr = np.array([41,42,43,50,56])\n",
    "filter_arr = [0,1,0,1,1]\n",
    "arr[filter_arr == np.ones(5)]"
   ]
  },
  {
   "cell_type": "code",
   "execution_count": 24,
   "id": "a7e81bed-1b15-4308-8230-172ad9be1a22",
   "metadata": {},
   "outputs": [
    {
     "data": {
      "text/plain": [
       "array([42, 50, 56])"
      ]
     },
     "execution_count": 24,
     "metadata": {},
     "output_type": "execute_result"
    }
   ],
   "source": [
    "\n",
    "arr = np.array([41,42,43,50,56])\n",
    "filter_arr =[False,  True, False,  True,  True]\n",
    "arr[filter_arr ]"
   ]
  },
  {
   "cell_type": "code",
   "execution_count": 26,
   "id": "3e1ca530-347d-4943-876a-e4fa7187e575",
   "metadata": {},
   "outputs": [
    {
     "data": {
      "text/plain": [
       "[False, False, False, True, True]"
      ]
     },
     "execution_count": 26,
     "metadata": {},
     "output_type": "execute_result"
    }
   ],
   "source": [
    "filter_arr.clear()\n",
    "fliter_arr = [] \n",
    "for x in arr: \n",
    "    if(x > 43):\n",
    "        filter_arr.append(True)\n",
    "    else: \n",
    "        filter_arr.append(False)\n",
    "filter_arr  \n"
   ]
  },
  {
   "cell_type": "code",
   "execution_count": 27,
   "id": "5f984f13-888b-481d-8f4b-a2c09d8f8d16",
   "metadata": {},
   "outputs": [
    {
     "data": {
      "text/plain": [
       "array([50, 56])"
      ]
     },
     "execution_count": 27,
     "metadata": {},
     "output_type": "execute_result"
    }
   ],
   "source": [
    "arr[filter_arr]"
   ]
  },
  {
   "cell_type": "code",
   "execution_count": 39,
   "id": "e935f73c-814b-44de-97a1-94b1d45c60e1",
   "metadata": {},
   "outputs": [
    {
     "data": {
      "text/plain": [
       "array([False,  True, False,  True, False,  True, False,  True, False,\n",
       "        True])"
      ]
     },
     "execution_count": 39,
     "metadata": {},
     "output_type": "execute_result"
    }
   ],
   "source": [
    "# filter_arr.clear()\n",
    "arr = np.array([1,2,3,4,5,6,7,8,9,10])\n",
    "far = arr % 2 == 0\n",
    "far"
   ]
  },
  {
   "cell_type": "code",
   "execution_count": 40,
   "id": "674e3351-e3ba-4af6-afaa-46b4baaadd5d",
   "metadata": {},
   "outputs": [
    {
     "data": {
      "text/plain": [
       "array([ 2,  4,  6,  8, 10])"
      ]
     },
     "execution_count": 40,
     "metadata": {},
     "output_type": "execute_result"
    }
   ],
   "source": [
    "arr[far]"
   ]
  },
  {
   "cell_type": "code",
   "execution_count": 41,
   "id": "b4a09ef9-4ae6-4ae0-98e0-7bb1fab49145",
   "metadata": {},
   "outputs": [
    {
     "data": {
      "text/plain": [
       "array([[ 1,  2,  3],\n",
       "       [ 4,  5,  6],\n",
       "       [ 7,  8,  9],\n",
       "       [10, 11, 12]])"
      ]
     },
     "execution_count": 41,
     "metadata": {},
     "output_type": "execute_result"
    }
   ],
   "source": [
    "arr = np.array([1,2,3,4,5,6,7,8,9,10,11,12])\n",
    "arr.reshape(4,3)"
   ]
  },
  {
   "cell_type": "code",
   "execution_count": 45,
   "id": "3148ffc7-5201-4bf1-949c-35a739ab1b00",
   "metadata": {},
   "outputs": [
    {
     "data": {
      "text/plain": [
       "array([[ 1,  2,  3,  4,  5,  6],\n",
       "       [ 7,  8,  9, 10, 11, 12]])"
      ]
     },
     "execution_count": 45,
     "metadata": {},
     "output_type": "execute_result"
    }
   ],
   "source": [
    "arr.reshape(2,6)"
   ]
  },
  {
   "cell_type": "code",
   "execution_count": null,
   "id": "5119c949-edf4-432e-840f-7c0df5cf3559",
   "metadata": {},
   "outputs": [],
   "source": []
  }
 ],
 "metadata": {
  "kernelspec": {
   "display_name": "Python [conda env:base] *",
   "language": "python",
   "name": "conda-base-py"
  },
  "language_info": {
   "codemirror_mode": {
    "name": "ipython",
    "version": 3
   },
   "file_extension": ".py",
   "mimetype": "text/x-python",
   "name": "python",
   "nbconvert_exporter": "python",
   "pygments_lexer": "ipython3",
   "version": "3.12.7"
  }
 },
 "nbformat": 4,
 "nbformat_minor": 5
}
