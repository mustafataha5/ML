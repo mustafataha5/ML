{
 "cells": [
  {
   "cell_type": "code",
   "execution_count": 7,
   "id": "53b69fb9-1cbd-470a-8e20-b4662e2fa398",
   "metadata": {},
   "outputs": [
    {
     "name": "stdout",
     "output_type": "stream",
     "text": [
      "Episode: 9500\n",
      "  ⏱ Steps this episode: 17\n",
      "  ❌ Penalties this episode: 0\n",
      "------------------------------\n",
      "✅ Training finished with ε-greedy Q-learning!\n",
      "📊 Average timesteps per episode: 18.87\n",
      "📊 Average penalties per episode: 1.43\n"
     ]
    }
   ],
   "source": [
    "import numpy as np\n",
    "import gym\n",
    "from IPython.display import clear_output\n",
    "\n",
    "# Setup\n",
    "env = gym.make('Taxi-v3').env\n",
    "q_table = np.zeros([env.observation_space.n, env.action_space.n])\n",
    "\n",
    "# Hyperparameters\n",
    "alpha = 0.4      # Learning rate\n",
    "gamma = 0.6      # Discount factor\n",
    "epsilon = 1.0    # Start with 100% exploration\n",
    "min_epsilon = 0.01\n",
    "decay_rate = 0.0005\n",
    "\n",
    "episodes = 10000\n",
    "total_epochs = 0\n",
    "total_penalties = 0\n",
    "\n",
    "# Training\n",
    "for episode in range(episodes):\n",
    "    state = env.reset()[0]\n",
    "    done = False\n",
    "    penalties = 0\n",
    "    epochs = 0\n",
    "\n",
    "    while not done:\n",
    "        # ε-greedy action selection\n",
    "        if np.random.uniform(0, 1) < epsilon:\n",
    "            action = env.action_space.sample()  # Explore\n",
    "        else:\n",
    "            action = np.argmax(q_table[state])  # Exploit\n",
    "\n",
    "        old_value = q_table[state, action]\n",
    "        next_state, reward, done, _, _ = env.step(action)\n",
    "        next_max = np.max(q_table[next_state])\n",
    "\n",
    "        # Q-learning update\n",
    "        new_value = (1 - alpha) * old_value + alpha * (reward + gamma * next_max)\n",
    "        q_table[state, action] = new_value\n",
    "\n",
    "        state = next_state\n",
    "\n",
    "        if reward == -10:\n",
    "            penalties += 1\n",
    "           # 🔄 Print progress every 500 episodes\n",
    "        if episode % 500 == 0:\n",
    "            clear_output(wait=True)                 # Clear the cell output\n",
    "            print(f\"Episode: {episode}\")\n",
    "            print(f\"  ⏱ Steps this episode: {epochs}\")\n",
    "            print(f\"  ❌ Penalties this episode: {penalties}\")\n",
    "            print(\"-\" * 30)\n",
    "        \n",
    "\n",
    "        epochs += 1\n",
    "\n",
    "    # Decrease ε (less exploration over time)\n",
    "    epsilon = max(min_epsilon, epsilon * np.exp(-decay_rate * episode))\n",
    "\n",
    "    total_epochs += epochs\n",
    "    total_penalties += penalties\n",
    "\n",
    "print(\"✅ Training finished with ε-greedy Q-learning!\")\n",
    "print(f\"📊 Average timesteps per episode: {total_epochs / episodes:.2f}\")\n",
    "print(f\"📊 Average penalties per episode: {total_penalties / episodes:.2f}\")"
   ]
  },
  {
   "cell_type": "code",
   "execution_count": 8,
   "id": "fd39c273-80b0-4ddb-9a6e-c639499fbebf",
   "metadata": {},
   "outputs": [
    {
     "data": {
      "text/plain": [
       "array([[  0.        ,   0.        ,   0.        ,   0.        ,\n",
       "          0.        ,   0.        ],\n",
       "       [ -2.39270965,  -2.3585428 ,  -2.38037848,  -2.34282765,\n",
       "         -2.27325184, -11.24689344],\n",
       "       [ -1.9083821 ,  -1.66530259,  -1.89266498,  -1.58167549,\n",
       "         -0.7504    , -10.89789413],\n",
       "       ...,\n",
       "       [ -1.70487637,  -0.31632841,  -1.84650736,  -1.78739456,\n",
       "        -10.4422912 , -10.64353635],\n",
       "       [ -2.17630746,  -2.1614336 ,  -2.18918714,  -2.130861  ,\n",
       "        -11.0822425 , -10.98509058],\n",
       "       [  3.21603716,   0.50563457,   3.49564765,  10.99762099,\n",
       "         -5.7029256 ,  -5.09729446]])"
      ]
     },
     "execution_count": 8,
     "metadata": {},
     "output_type": "execute_result"
    }
   ],
   "source": [
    "q_table"
   ]
  },
  {
   "cell_type": "code",
   "execution_count": 9,
   "id": "aefb8e54-4c40-4528-863e-246813de2a24",
   "metadata": {},
   "outputs": [
    {
     "name": "stdout",
     "output_type": "stream",
     "text": [
      "\n",
      "📊 Results after 1000 test episodes:\n",
      "🕒 Average timesteps per episode: 13.07\n",
      "❌ Average penalties per episode: 0.00\n"
     ]
    }
   ],
   "source": [
    "episodes = 1000                      # Number of test episodes to run\n",
    "total_epochs = 0                   # Total steps taken across all episodes\n",
    "total_penalties = 0                # Total number of penalties across all episodes\n",
    "\n",
    "for _ in range(episodes):\n",
    "    state = env.reset()[0]         # Get the initial state (unpack from tuple)\n",
    "    done = False                   # Whether the episode is finished\n",
    "    epochs = 0                     # Steps taken in this episode\n",
    "    penalties = 0                  # Penalties in this episode\n",
    "\n",
    "    while not done:\n",
    "        # Select the best action based on trained Q-table\n",
    "        action = np.argmax(q_table[state])\n",
    "\n",
    "        # Apply the action in the environment\n",
    "        state, reward, done, _, _ = env.step(action)\n",
    "\n",
    "        # Check if the action caused a penalty (-10 reward)\n",
    "        if reward == -10:\n",
    "            penalties += 1\n",
    "\n",
    "        epochs += 1  # Count each step taken\n",
    "\n",
    "    # Track totals across all test episodes\n",
    "    total_epochs += epochs\n",
    "    total_penalties += penalties\n",
    "\n",
    "# Show average performance of the trained agent\n",
    "print(f\"\\n📊 Results after {episodes} test episodes:\")\n",
    "print(f\"🕒 Average timesteps per episode: {total_epochs / episodes:.2f}\")\n",
    "print(f\"❌ Average penalties per episode: {total_penalties / episodes:.2f}\")\n"
   ]
  },
  {
   "cell_type": "code",
   "execution_count": null,
   "id": "30336586-a01f-440a-992f-b957c0fb5e4a",
   "metadata": {},
   "outputs": [],
   "source": []
  }
 ],
 "metadata": {
  "kernelspec": {
   "display_name": "Python [conda env:base] *",
   "language": "python",
   "name": "conda-base-py"
  },
  "language_info": {
   "codemirror_mode": {
    "name": "ipython",
    "version": 3
   },
   "file_extension": ".py",
   "mimetype": "text/x-python",
   "name": "python",
   "nbconvert_exporter": "python",
   "pygments_lexer": "ipython3",
   "version": "3.12.7"
  }
 },
 "nbformat": 4,
 "nbformat_minor": 5
}
