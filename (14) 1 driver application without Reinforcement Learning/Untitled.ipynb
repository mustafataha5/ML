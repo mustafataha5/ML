{
 "cells": [
  {
   "cell_type": "code",
   "execution_count": 1,
   "id": "8b1fe975-453d-43a4-956c-3b54f8cf6e14",
   "metadata": {},
   "outputs": [
    {
     "name": "stdout",
     "output_type": "stream",
     "text": [
      "Requirement already satisfied: gym in c:\\users\\user\\anaconda3\\lib\\site-packages (0.26.2)\n",
      "Requirement already satisfied: numpy>=1.18.0 in c:\\users\\user\\anaconda3\\lib\\site-packages (from gym) (1.26.4)\n",
      "Requirement already satisfied: cloudpickle>=1.2.0 in c:\\users\\user\\anaconda3\\lib\\site-packages (from gym) (3.0.0)\n",
      "Requirement already satisfied: gym_notices>=0.0.4 in c:\\users\\user\\anaconda3\\lib\\site-packages (from gym) (0.0.8)\n"
     ]
    }
   ],
   "source": [
    "!pip install gym"
   ]
  },
  {
   "cell_type": "code",
   "execution_count": 2,
   "id": "fd32c179-03a3-475f-ac4a-2be5dfeabc81",
   "metadata": {},
   "outputs": [
    {
     "name": "stdout",
     "output_type": "stream",
     "text": [
      "+---------+\n",
      "|R: | : :G|\n",
      "| : | : : |\n",
      "| : : : : |\n",
      "|\u001b[43m \u001b[0m| : | : |\n",
      "|\u001b[35mY\u001b[0m| : |\u001b[34;1mB\u001b[0m: |\n",
      "+---------+\n",
      "\n",
      "\n"
     ]
    }
   ],
   "source": [
    "import gym \n",
    "env = gym.make('Taxi-v3',render_mode='ansi').env\n",
    "env.reset(seed=0)\n",
    "env = env.unwrapped\n",
    "arr = env.render()\n",
    "print(arr)\n",
    "# print(arr.getvalue())  # Use getvalue() if arr is a StringIO object"
   ]
  },
  {
   "cell_type": "code",
   "execution_count": 3,
   "id": "4787fda8-0624-40e4-8823-665c2fa9f477",
   "metadata": {},
   "outputs": [
    {
     "name": "stdout",
     "output_type": "stream",
     "text": [
      "Action Space  Discrete(6)\n",
      "State Space Discrete(500)\n"
     ]
    }
   ],
   "source": [
    "print('Action Space ',env.action_space)\n",
    "print('State Space',env.observation_space)"
   ]
  },
  {
   "cell_type": "code",
   "execution_count": 4,
   "id": "30849d69-1dc0-4a15-9581-a81b2e0a285f",
   "metadata": {},
   "outputs": [
    {
     "name": "stdout",
     "output_type": "stream",
     "text": [
      "State 328\n",
      "+---------+\n",
      "|\u001b[35mR\u001b[0m: | : :G|\n",
      "| : | : : |\n",
      "| : : : : |\n",
      "| |\u001b[43m \u001b[0m: | : |\n",
      "|\u001b[34;1mY\u001b[0m| : |B: |\n",
      "+---------+\n",
      "\n",
      "\n"
     ]
    }
   ],
   "source": [
    "state = env.encode(3,1,2,0)\n",
    "print(\"State\",state)\n",
    "env.s = state \n",
    "arr = env.render()\n",
    "print(arr)"
   ]
  },
  {
   "cell_type": "code",
   "execution_count": 5,
   "id": "1b38e8a3-3cb4-4164-b9ca-2c6f0f1006e5",
   "metadata": {},
   "outputs": [
    {
     "data": {
      "text/plain": [
       "{0: [(1.0, 428, -1, False)],\n",
       " 1: [(1.0, 228, -1, False)],\n",
       " 2: [(1.0, 348, -1, False)],\n",
       " 3: [(1.0, 328, -1, False)],\n",
       " 4: [(1.0, 328, -10, False)],\n",
       " 5: [(1.0, 328, -10, False)]}"
      ]
     },
     "execution_count": 5,
     "metadata": {},
     "output_type": "execute_result"
    }
   ],
   "source": [
    "env.P[env.s]"
   ]
  },
  {
   "cell_type": "code",
   "execution_count": 8,
   "id": "da642854-0525-42e3-89d6-ebc05fee5bd1",
   "metadata": {},
   "outputs": [
    {
     "name": "stdout",
     "output_type": "stream",
     "text": [
      "Timesteps taken:  709\n",
      "Penalities incurred:  237\n"
     ]
    }
   ],
   "source": [
    "state = env.encode(3,1,2,0)\n",
    "env.s = state \n",
    "\n",
    "epochs = 0 \n",
    "penalties = 0 \n",
    "\n",
    "frames = [] \n",
    "\n",
    "done = False\n",
    "while not done : \n",
    "    action  = env.action_space.sample()\n",
    "    state,reward,done,_,_ = env.step(action)\n",
    "\n",
    "    if reward == -10 : \n",
    "        penalties +=1\n",
    "    frames.append({'state':state,'action':action,'reward':reward})\n",
    "\n",
    "    epochs+=1\n",
    "\n",
    "print('Timesteps taken: ',epochs)\n",
    "print('Penalities incurred: ',penalties)"
   ]
  },
  {
   "cell_type": "code",
   "execution_count": 9,
   "id": "1c1fcd21-8f7e-41d6-bcd2-3265ab50522c",
   "metadata": {},
   "outputs": [
    {
     "name": "stdout",
     "output_type": "stream",
     "text": [
      "+---------+\n",
      "|\u001b[35m\u001b[34;1m\u001b[43mR\u001b[0m\u001b[0m\u001b[0m: | : :G|\n",
      "| : | : : |\n",
      "| : : : : |\n",
      "| | : | : |\n",
      "|Y| : |B: |\n",
      "+---------+\n",
      "  (Dropoff)\n",
      "\n",
      "Timestep: 709\n",
      "State: 0\n",
      "Action: 5\n",
      "Reward: 20\n"
     ]
    }
   ],
   "source": [
    "from IPython.display import clear_output \n",
    "from time import sleep \n",
    "\n",
    "def print_frame(frames): \n",
    "    actions= ['North','South','East','West','Pick-Up','Drop-Of']\n",
    "    for i,frame  in enumerate(frames): \n",
    "        env.s = frame['state']\n",
    "        clear_output(wait=True)\n",
    "        arr = env.render()\n",
    "        print(arr)\n",
    "        print(f\"Timestep: {i+1}\")\n",
    "        print(f'State: {frame['state']}')\n",
    "        print(f'Action: {frame['action']}')\n",
    "        print(f'Reward: {frame['reward']}')\n",
    "        sleep(0.1)\n",
    "        \n",
    "print_frame(frames)"
   ]
  },
  {
   "cell_type": "code",
   "execution_count": 10,
   "id": "c3ddde12-fd84-449d-843f-fd93e9e0c0a6",
   "metadata": {},
   "outputs": [
    {
     "name": "stdout",
     "output_type": "stream",
     "text": [
      "Result after 100 episodes\n",
      "Average timesteps per episode 2312.44\n",
      "Average penalties per episode 746.85\n"
     ]
    }
   ],
   "source": [
    "episodes = 100 \n",
    "total_epochs = 0 \n",
    "total_penalties = 0 \n",
    "\n",
    "for _ in range(episodes): \n",
    "    state = env.reset()\n",
    "   \n",
    "    epochs = 0 \n",
    "    penalties = 0 \n",
    "    reward = 0  \n",
    "    done = False\n",
    "    \n",
    "    while not done : \n",
    "        action  = env.action_space.sample()\n",
    "        state,reward,done,_,_ = env.step(action)\n",
    "    \n",
    "        if reward == -10 : \n",
    "            penalties +=1\n",
    "        # frames.append({'state':state,'action':action,'reward':reward})\n",
    "        epochs+=1 \n",
    "    total_epochs +=epochs \n",
    "    total_penalties+=penalties\n",
    "\n",
    "print(f'Result after {episodes} episodes')\n",
    "print(f'Average timesteps per episode {total_epochs/episodes}')\n",
    "print(f'Average penalties per episode {total_penalties/episodes}')"
   ]
  },
  {
   "cell_type": "code",
   "execution_count": 15,
   "id": "b19f1bef-bd0c-47dd-b2a0-d07a93dda288",
   "metadata": {},
   "outputs": [
    {
     "data": {
      "text/plain": [
       "array([[0., 0., 0., 0., 0., 0.],\n",
       "       [0., 0., 0., 0., 0., 0.],\n",
       "       [0., 0., 0., 0., 0., 0.],\n",
       "       ...,\n",
       "       [0., 0., 0., 0., 0., 0.],\n",
       "       [0., 0., 0., 0., 0., 0.],\n",
       "       [0., 0., 0., 0., 0., 0.]])"
      ]
     },
     "execution_count": 15,
     "metadata": {},
     "output_type": "execute_result"
    }
   ],
   "source": [
    "import numpy as np \n",
    "\n",
    "states = env.observation_space.n \n",
    "actions = env.action_space.n\n",
    "# print(actions)\n",
    "q_table = np.zeros([states,actions])\n",
    "q_table"
   ]
  },
  {
   "cell_type": "code",
   "execution_count": 16,
   "id": "6f204b66-16a0-469b-b101-b1ad3cc6110a",
   "metadata": {},
   "outputs": [
    {
     "data": {
      "text/plain": [
       "(500, 6)"
      ]
     },
     "execution_count": 16,
     "metadata": {},
     "output_type": "execute_result"
    }
   ],
   "source": [
    "q_table.shape"
   ]
  },
  {
   "cell_type": "code",
   "execution_count": 22,
   "id": "18a248fe-a216-48b2-9a01-05695cb12482",
   "metadata": {},
   "outputs": [
    {
     "name": "stdout",
     "output_type": "stream",
     "text": [
      "Episode: 9500\n",
      "  ⏱ Steps this episode: 16\n",
      "  ❌ Penalties this episode: 0\n",
      "------------------------------\n",
      "\n",
      "✅ Finished Training with Q-learning!\n",
      "📊 Average timesteps per episode: 13.06\n",
      "📊 Average penalties per episode: 0.00\n"
     ]
    }
   ],
   "source": [
    "# Hyperparameters\n",
    "alpha = 0.4     # Learning rate - how much new info overrides old\n",
    "gamma = 0.6     # Discount factor - how much future rewards matter\n",
    "\n",
    "# Training config\n",
    "episodes = 10000                 # Number of episodes to train on\n",
    "total_epochs = 0                # Total steps across all episodes\n",
    "total_penalties = 0            # Total penalties across all episodes\n",
    "\n",
    "# Training loop\n",
    "for episode in range(episodes):\n",
    "    state = env.reset()[0]      # Get the initial state (unpack from tuple)\n",
    "    done = False\n",
    "    epochs = 0\n",
    "    penalties = 0\n",
    "\n",
    "    while not done:\n",
    "        # Choose the best known action (greedy strategy)\n",
    "        action = np.argmax(q_table[state])\n",
    "\n",
    "        # Store current Q value\n",
    "        old_value = q_table[state, action]\n",
    "\n",
    "        # Apply the action to get new state and reward\n",
    "        next_state, reward, done, _, _ = env.step(action)\n",
    "\n",
    "        # Estimate future optimal value\n",
    "        next_max = np.argmax(q_table[next_state])\n",
    "\n",
    "        # Q-learning update rule\n",
    "        new_value = (1 - alpha) * old_value + alpha * (reward + gamma * q_table[next_state, next_max])\n",
    "        q_table[state, action] = new_value\n",
    "\n",
    "        state = next_state\n",
    "\n",
    "        # Track penalties\n",
    "        if reward == -10:\n",
    "            penalties += 1\n",
    "\n",
    "        epochs += 1\n",
    "\n",
    "    # Update totals\n",
    "    total_epochs += epochs\n",
    "    total_penalties += penalties\n",
    "\n",
    "    # 🔄 Print progress every 500 episodes\n",
    "    if episode % 500 == 0:\n",
    "        clear_output(wait=True)                 # Clear the cell output\n",
    "        print(f\"Episode: {episode}\")\n",
    "        print(f\"  ⏱ Steps this episode: {epochs}\")\n",
    "        print(f\"  ❌ Penalties this episode: {penalties}\")\n",
    "        print(\"-\" * 30)\n",
    "\n",
    "# Final summary\n",
    "print(\"\\n✅ Finished Training with Q-learning!\")\n",
    "print(f\"📊 Average timesteps per episode: {total_epochs / episodes:.2f}\")\n",
    "print(f\"📊 Average penalties per episode: {total_penalties / episodes:.2f}\")"
   ]
  },
  {
   "cell_type": "code",
   "execution_count": 23,
   "id": "5de06c2c-29bc-4c7e-9aa0-1643f26d9a70",
   "metadata": {},
   "outputs": [
    {
     "name": "stdout",
     "output_type": "stream",
     "text": [
      "\n",
      "📊 Results after 1000 test episodes:\n",
      "🕒 Average timesteps per episode: 13.15\n",
      "❌ Average penalties per episode: 0.00\n"
     ]
    }
   ],
   "source": [
    "episodes = 1000                      # Number of test episodes to run\n",
    "total_epochs = 0                   # Total steps taken across all episodes\n",
    "total_penalties = 0                # Total number of penalties across all episodes\n",
    "\n",
    "for _ in range(episodes):\n",
    "    state = env.reset()[0]         # Get the initial state (unpack from tuple)\n",
    "    done = False                   # Whether the episode is finished\n",
    "    epochs = 0                     # Steps taken in this episode\n",
    "    penalties = 0                  # Penalties in this episode\n",
    "\n",
    "    while not done:\n",
    "        # Select the best action based on trained Q-table\n",
    "        action = np.argmax(q_table[state])\n",
    "\n",
    "        # Apply the action in the environment\n",
    "        state, reward, done, _, _ = env.step(action)\n",
    "\n",
    "        # Check if the action caused a penalty (-10 reward)\n",
    "        if reward == -10:\n",
    "            penalties += 1\n",
    "\n",
    "        epochs += 1  # Count each step taken\n",
    "\n",
    "    # Track totals across all test episodes\n",
    "    total_epochs += epochs\n",
    "    total_penalties += penalties\n",
    "\n",
    "# Show average performance of the trained agent\n",
    "print(f\"\\n📊 Results after {episodes} test episodes:\")\n",
    "print(f\"🕒 Average timesteps per episode: {total_epochs / episodes:.2f}\")\n",
    "print(f\"❌ Average penalties per episode: {total_penalties / episodes:.2f}\")\n"
   ]
  },
  {
   "cell_type": "code",
   "execution_count": 25,
   "id": "da0669cf-6062-4095-94ab-4ebee8a9b77d",
   "metadata": {},
   "outputs": [
    {
     "name": "stdout",
     "output_type": "stream",
     "text": [
      "+---------+\n",
      "|\u001b[35m\u001b[34;1m\u001b[43mR\u001b[0m\u001b[0m\u001b[0m: | : :G|\n",
      "| : | : : |\n",
      "| : : : : |\n",
      "| | : | : |\n",
      "|Y| : |B: |\n",
      "+---------+\n",
      "  (Dropoff)\n",
      "\n",
      "Timestep: 10\n",
      "State: 0\n",
      "Action: 5\n",
      "Reward: 20\n"
     ]
    }
   ],
   "source": [
    "state = env.encode(3,1,2,0)\n",
    "print(\"State\",state)\n",
    "env.s = state \n",
    "arr = env.render()\n",
    "print(arr)\n",
    "\n",
    "\n",
    "frames = [] \n",
    "\n",
    "done = False\n",
    "while not done : \n",
    "    action  =  np.argmax(q_table[state])\n",
    "    state,reward,done,_,_ = env.step(action)\n",
    "\n",
    "    if reward == -10 : \n",
    "        penalties +=1\n",
    "    frames.append({'state':state,'action':action,'reward':reward})\n",
    "\n",
    "    epochs+=1\n",
    "\n",
    "print('Timesteps taken: ',epochs)\n",
    "print('Penalities incurred: ',penalties)\n",
    "\n",
    "print_frame(frames)\n",
    "\n"
   ]
  },
  {
   "cell_type": "code",
   "execution_count": null,
   "id": "3f02f2e7-2cd6-4863-aaff-e90cab81ee0e",
   "metadata": {},
   "outputs": [],
   "source": []
  }
 ],
 "metadata": {
  "kernelspec": {
   "display_name": "Python [conda env:base] *",
   "language": "python",
   "name": "conda-base-py"
  },
  "language_info": {
   "codemirror_mode": {
    "name": "ipython",
    "version": 3
   },
   "file_extension": ".py",
   "mimetype": "text/x-python",
   "name": "python",
   "nbconvert_exporter": "python",
   "pygments_lexer": "ipython3",
   "version": "3.12.7"
  }
 },
 "nbformat": 4,
 "nbformat_minor": 5
}
