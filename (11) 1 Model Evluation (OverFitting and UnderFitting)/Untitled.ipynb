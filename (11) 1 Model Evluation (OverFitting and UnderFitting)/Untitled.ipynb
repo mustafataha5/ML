{
 "cells": [
  {
   "cell_type": "code",
   "execution_count": 1,
   "id": "ddbb1a2a-a945-4847-811c-56fc1ddd13f1",
   "metadata": {},
   "outputs": [],
   "source": [
    "from sklearn.datasets import make_classification\n",
    "\n",
    "X,Y = make_classification(n_samples=10000,n_features=20,n_informative=5,n_redundant=15,random_state=1)"
   ]
  },
  {
   "cell_type": "code",
   "execution_count": 3,
   "id": "1fcf22a2-671a-45e9-b855-a2500a825c09",
   "metadata": {},
   "outputs": [
    {
     "name": "stdout",
     "output_type": "stream",
     "text": [
      "(10000, 20) (10000,)\n"
     ]
    }
   ],
   "source": [
    "print(X.shape,Y.shape)"
   ]
  },
  {
   "cell_type": "code",
   "execution_count": 5,
   "id": "0caf5506-9210-45fe-af09-0b325fe1a02c",
   "metadata": {},
   "outputs": [],
   "source": [
    "from sklearn.model_selection import train_test_split\n",
    "x_train,x_test,y_train,y_test = train_test_split(X,Y, test_size=.3 , random_state=0 )"
   ]
  },
  {
   "cell_type": "code",
   "execution_count": 7,
   "id": "0a2ce9dc-b807-4b1d-9d51-b93217f96edd",
   "metadata": {},
   "outputs": [
    {
     "name": "stdout",
     "output_type": "stream",
     "text": [
      "(7000, 20) (7000,)\n",
      "(3000, 20) (3000,)\n"
     ]
    }
   ],
   "source": [
    "print(x_train.shape,y_train.shape)\n",
    "print(x_test.shape,y_test.shape)     "
   ]
  },
  {
   "cell_type": "code",
   "execution_count": 11,
   "id": "71291221-4fc5-4cbe-89f0-cfd940fb514d",
   "metadata": {},
   "outputs": [
    {
     "data": {
      "text/plain": [
       "[1, 2, 3, 4, 5, 6, 7, 8, 9, 10, 11, 12, 13, 14, 15, 16, 17, 18, 19, 20]"
      ]
     },
     "execution_count": 11,
     "metadata": {},
     "output_type": "execute_result"
    }
   ],
   "source": [
    "values = [ val for val in range(1,21)]\n",
    "values"
   ]
  },
  {
   "cell_type": "code",
   "execution_count": 9,
   "id": "10499966-4c86-47a4-ab20-1805293bd0fc",
   "metadata": {},
   "outputs": [],
   "source": [
    "train_score,test_score = list(),list()"
   ]
  },
  {
   "cell_type": "code",
   "execution_count": 14,
   "id": "37e34a0d-3b80-4411-b6c1-756a92d5c5fb",
   "metadata": {},
   "outputs": [
    {
     "name": "stdout",
     "output_type": "stream",
     "text": [
      "1 accuracy train: 0.768  , test: 0.765\n",
      "2 accuracy train: 0.81  , test: 0.797\n",
      "3 accuracy train: 0.883  , test: 0.876\n",
      "4 accuracy train: 0.904  , test: 0.898\n",
      "5 accuracy train: 0.916  , test: 0.902\n",
      "6 accuracy train: 0.931  , test: 0.911\n",
      "7 accuracy train: 0.944  , test: 0.914\n",
      "8 accuracy train: 0.955  , test: 0.921\n",
      "9 accuracy train: 0.963  , test: 0.926\n",
      "10 accuracy train: 0.969  , test: 0.92\n",
      "11 accuracy train: 0.978  , test: 0.918\n",
      "12 accuracy train: 0.985  , test: 0.919\n",
      "13 accuracy train: 0.988  , test: 0.915\n",
      "14 accuracy train: 0.992  , test: 0.913\n",
      "15 accuracy train: 0.995  , test: 0.916\n",
      "16 accuracy train: 0.997  , test: 0.914\n",
      "17 accuracy train: 0.999  , test: 0.907\n",
      "18 accuracy train: 0.999  , test: 0.911\n",
      "19 accuracy train: 0.999  , test: 0.913\n",
      "20 accuracy train: 1.0  , test: 0.906\n"
     ]
    }
   ],
   "source": [
    "from sklearn.tree import DecisionTreeClassifier \n",
    "from sklearn.metrics import accuracy_score \n",
    "\n",
    "\n",
    "for i in values: \n",
    "    model = DecisionTreeClassifier(max_depth=i) \n",
    "    model.fit(x_train,y_train)\n",
    "    train_yhat = model.predict(x_train)\n",
    "    train_acc =accuracy_score(train_yhat,y_train)\n",
    "    train_score.append(train_acc) \n",
    "\n",
    "    test_yhat = model.predict(x_test)\n",
    "    test_acc = accuracy_score(test_yhat,y_test)\n",
    "    test_score.append(test_acc)\n",
    "\n",
    "\n",
    "    print(f'{i} accuracy train: {round(train_acc,3)}  , test: {round(test_acc,3)}')\n",
    "    "
   ]
  },
  {
   "cell_type": "code",
   "execution_count": null,
   "id": "b5f8efef-1b8c-420f-8524-80d192405b74",
   "metadata": {},
   "outputs": [],
   "source": []
  }
 ],
 "metadata": {
  "kernelspec": {
   "display_name": "Python [conda env:base] *",
   "language": "python",
   "name": "conda-base-py"
  },
  "language_info": {
   "codemirror_mode": {
    "name": "ipython",
    "version": 3
   },
   "file_extension": ".py",
   "mimetype": "text/x-python",
   "name": "python",
   "nbconvert_exporter": "python",
   "pygments_lexer": "ipython3",
   "version": "3.12.7"
  }
 },
 "nbformat": 4,
 "nbformat_minor": 5
}
