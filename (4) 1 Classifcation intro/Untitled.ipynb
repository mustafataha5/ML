{
 "cells": [
  {
   "cell_type": "code",
   "execution_count": 1,
   "id": "aa7a14fd-e2c2-43b9-bb7b-6dd8b16b57b6",
   "metadata": {},
   "outputs": [],
   "source": [
    "from sklearn.metrics import confusion_matrix \n",
    "from sklearn.metrics import precision_score\n",
    "from sklearn.metrics import accuracy_score \n",
    "from sklearn.metrics import recall_score \n",
    "from sklearn.metrics import f1_score\n",
    "\n",
    "actual = ['spam', 'not spam', 'spam', 'not spam', 'spam', 'spam', 'not spam', 'spam', 'not spam', 'not spam']\n",
    "\n",
    "predicted = ['spam', 'spam', 'spam', 'not spam', 'spam', 'spam', 'not spam', 'not spam', 'not spam', 'spam']"
   ]
  },
  {
   "cell_type": "code",
   "execution_count": 2,
   "id": "fab2f732-2e33-4465-9589-23a9bc4dfefa",
   "metadata": {},
   "outputs": [
    {
     "name": "stdout",
     "output_type": "stream",
     "text": [
      "confusion_matrix\n",
      "[[4 2]\n",
      " [1 3]]\n"
     ]
    }
   ],
   "source": [
    "cf_matric = confusion_matrix(predicted,actual,labels=['spam', 'not spam'])\n",
    "print(\"confusion_matrix\")\n",
    "print(cf_matric)"
   ]
  },
  {
   "cell_type": "code",
   "execution_count": 5,
   "id": "368579be-9108-4614-8015-e7865f860234",
   "metadata": {},
   "outputs": [
    {
     "name": "stdout",
     "output_type": "stream",
     "text": [
      "True Positives (TP): 4\n",
      "True Negatives (TN): 3\n",
      "False Positives (FP): 1\n",
      "False Negatives (FN): 2\n"
     ]
    }
   ],
   "source": [
    "# Extract TP, TN, FP, FN based on 'spam' being the positive class\n",
    "# And 'not spam' being the negative class\n",
    "\n",
    "# TP: True Positives (Actual 'spam', Predicted 'spam')\n",
    "# This is the count of correctly classified positive instances.\n",
    "TP = cf_matric[0][0] # First row (true 'spam'), first column (predicted 'spam')\n",
    "\n",
    "# FN: False Negatives (Actual 'spam', Predicted 'not spam')\n",
    "# This is the count of positive instances that were incorrectly classified as negative.\n",
    "FN = cf_matric[0][1] # First row (true 'spam'), second column (predicted 'not spam')\n",
    "\n",
    "# FP: False Positives (Actual 'not spam', Predicted 'spam')\n",
    "# This is the count of negative instances that were incorrectly classified as positive.\n",
    "FP = cf_matric[1][0] # Second row (true 'not spam'), first column (predicted 'spam')\n",
    "\n",
    "# TN: True Negatives (Actual 'not spam', Predicted 'not spam')\n",
    "# This is the count of correctly classified negative instances.\n",
    "TN = cf_matric[1][1] # Second row (true 'not spam'), second column (predicted 'not spam')\n",
    "\n",
    "\n",
    "# Print the extracted values\n",
    "print(f\"True Positives (TP): {TP}\")\n",
    "print(f\"True Negatives (TN): {TN}\")\n",
    "print(f\"False Positives (FP): {FP}\")\n",
    "print(f\"False Negatives (FN): {FN}\")"
   ]
  },
  {
   "cell_type": "code",
   "execution_count": 7,
   "id": "17c4b794-9f85-491e-a194-f7e72f3181b9",
   "metadata": {},
   "outputs": [
    {
     "name": "stdout",
     "output_type": "stream",
     "text": [
      "Accuracy: 0.7000\n",
      "Precision: 0.6667\n",
      "Recall: 0.8000\n",
      "F1-Score: 0.7273\n"
     ]
    }
   ],
   "source": [
    "positive_class_label = 'spam'\n",
    "# --- Compute and Print Metrics ---\n",
    "\n",
    "# For `precision_score`, `recall_score`, and `f1_score` in binary classification,\n",
    "# you often need to specify the `pos_label` if your labels are not 0 and 1,\n",
    "# or if you want to explicitly define the positive class.\n",
    "\n",
    "# Accuracy Score\n",
    "accuracy = accuracy_score(actual, predicted)\n",
    "print(f\"Accuracy: {accuracy:.4f}\")\n",
    "\n",
    "# Precision Score\n",
    "# Precision is the ability of the classifier not to label as positive a sample that is negative.\n",
    "# TP / (TP + FP)\n",
    "precision = precision_score(actual, predicted, pos_label=positive_class_label)\n",
    "print(f\"Precision: {precision:.4f}\")\n",
    "\n",
    "# Recall Score\n",
    "# Recall is the ability of the classifier to find all the positive samples.\n",
    "# TP / (TP + FN)\n",
    "recall = recall_score(actual, predicted, pos_label=positive_class_label)\n",
    "print(f\"Recall: {recall:.4f}\")\n",
    "\n",
    "# F1 Score\n",
    "# The F1 score can be interpreted as a harmonic mean of the precision and recall,\n",
    "# where an F1 score reaches its best value at 1 and worst at 0.\n",
    "f1 = f1_score(actual, predicted, pos_label=positive_class_label)\n",
    "print(f\"F1-Score: {f1:.4f}\")"
   ]
  },
  {
   "cell_type": "code",
   "execution_count": 9,
   "id": "c0c8bcda-9776-4430-b27e-b4d5624244a7",
   "metadata": {},
   "outputs": [
    {
     "data": {
      "text/plain": [
       "<Axes: >"
      ]
     },
     "execution_count": 9,
     "metadata": {},
     "output_type": "execute_result"
    },
    {
     "data": {
      "image/png": "[encoded data removed]",
      "text/plain": [
       "<Figure size 640x480 with 2 Axes>"
      ]
     },
     "metadata": {},
     "output_type": "display_data"
    }
   ],
   "source": [
    "import seaborn as sns \n",
    "sns.heatmap(cf_matric,annot=True)"
   ]
  },
  {
   "cell_type": "code",
   "execution_count": null,
   "id": "3270b258-5f92-46ee-8f34-b4f3fc876685",
   "metadata": {},
   "outputs": [],
   "source": []
  }
 ],
 "metadata": {
  "kernelspec": {
   "display_name": "Python [conda env:base] *",
   "language": "python",
   "name": "conda-base-py"
  },
  "language_info": {
   "codemirror_mode": {
    "name": "ipython",
    "version": 3
   },
   "file_extension": ".py",
   "mimetype": "text/x-python",
   "name": "python",
   "nbconvert_exporter": "python",
   "pygments_lexer": "ipython3",
   "version": "3.12.7"
  }
 },
 "nbformat": 4,
 "nbformat_minor": 5
}
